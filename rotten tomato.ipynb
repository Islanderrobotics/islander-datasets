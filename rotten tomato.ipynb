{
 "cells": [
  {
   "cell_type": "code",
   "execution_count": 1,
   "metadata": {
    "collapsed": true
   },
   "outputs": [],
   "source": [
    "import numpy as np\n",
    "import pandas as pd\n",
    "import irdatacleaning as ird\n",
    "import islanders as ir"
   ]
  },
  {
   "cell_type": "code",
   "execution_count": 2,
   "outputs": [],
   "source": [
    "data = pd.read_csv(\"uncleaned_tomatos.csv\", index_col=0)"
   ],
   "metadata": {
    "collapsed": false,
    "pycharm": {
     "name": "#%%\n"
    }
   }
  },
  {
   "cell_type": "code",
   "execution_count": 3,
   "outputs": [
    {
     "data": {
      "text/plain": "                                                names tomatometer  \\\n0          \\n            It Happened One Night (1934)         99%   \n1               \\n            The Wizard of Oz (1939)         98%   \n2                   \\n            Citizen Kane (1941)         99%   \n3                   \\n            Modern Times (1936)         98%   \n4                  \\n            Black Panther (2018)         96%   \n..                                                ...         ...   \n95  \\n            Never Rarely Sometimes Always (2...         99%   \n96        \\n            Spider-Man: Homecoming (2017)         92%   \n97  \\n            The Bridge on the River Kwai (1957)         96%   \n98  \\n            Pain and Glory (Dolor y gloria) ...         96%   \n99                       \\n            Top Hat (1935)        100%   \n\n    number_of_reviews                           movie_info  audience_score  \\\n0                  98         1934, Romance/Comedy, 1h 45m              93   \n1                 160  1939, Musical/Kids & family, 1h 41m              89   \n2                 120                  1941, Drama, 1h 59m              90   \n3                 109                 1936, Comedy, 1h 29m              95   \n4                 525       2018, Adventure/Action, 2h 14m              79   \n..                ...                                  ...             ...   \n95                235                  2020, Drama, 1h 41m              52   \n96                394       2017, Action/Adventure, 2h 13m              87   \n97                 93              1957, War/Drama, 2h 41m              93   \n98                299                  2019, Drama, 1h 53m              91   \n99                 42        1935, Romance/Musical, 1h 39m              90   \n\n           audience_count critics_count  \n0         25,000+ Ratings    98 Reviews  \n1        250,000+ Ratings   160 Reviews  \n2        100,000+ Ratings   120 Reviews  \n3         25,000+ Ratings   109 Reviews  \n4         50,000+ Ratings   525 Reviews  \n..                    ...           ...  \n95           500+ Ratings   235 Reviews  \n96       100,000+ Ratings   394 Reviews  \n97        50,000+ Ratings    93 Reviews  \n98  250+ Verified Ratings   299 Reviews  \n99         5,000+ Ratings    42 Reviews  \n\n[100 rows x 7 columns]",
      "text/html": "<div>\n<style scoped>\n    .dataframe tbody tr th:only-of-type {\n        vertical-align: middle;\n    }\n\n    .dataframe tbody tr th {\n        vertical-align: top;\n    }\n\n    .dataframe thead th {\n        text-align: right;\n    }\n</style>\n<table border=\"1\" class=\"dataframe\">\n  <thead>\n    <tr style=\"text-align: right;\">\n      <th></th>\n      <th>names</th>\n      <th>tomatometer</th>\n      <th>number_of_reviews</th>\n      <th>movie_info</th>\n      <th>audience_score</th>\n      <th>audience_count</th>\n      <th>critics_count</th>\n    </tr>\n  </thead>\n  <tbody>\n    <tr>\n      <th>0</th>\n      <td>\\n            It Happened One Night (1934)</td>\n      <td>99%</td>\n      <td>98</td>\n      <td>1934, Romance/Comedy, 1h 45m</td>\n      <td>93</td>\n      <td>25,000+ Ratings</td>\n      <td>98 Reviews</td>\n    </tr>\n    <tr>\n      <th>1</th>\n      <td>\\n            The Wizard of Oz (1939)</td>\n      <td>98%</td>\n      <td>160</td>\n      <td>1939, Musical/Kids &amp; family, 1h 41m</td>\n      <td>89</td>\n      <td>250,000+ Ratings</td>\n      <td>160 Reviews</td>\n    </tr>\n    <tr>\n      <th>2</th>\n      <td>\\n            Citizen Kane (1941)</td>\n      <td>99%</td>\n      <td>120</td>\n      <td>1941, Drama, 1h 59m</td>\n      <td>90</td>\n      <td>100,000+ Ratings</td>\n      <td>120 Reviews</td>\n    </tr>\n    <tr>\n      <th>3</th>\n      <td>\\n            Modern Times (1936)</td>\n      <td>98%</td>\n      <td>109</td>\n      <td>1936, Comedy, 1h 29m</td>\n      <td>95</td>\n      <td>25,000+ Ratings</td>\n      <td>109 Reviews</td>\n    </tr>\n    <tr>\n      <th>4</th>\n      <td>\\n            Black Panther (2018)</td>\n      <td>96%</td>\n      <td>525</td>\n      <td>2018, Adventure/Action, 2h 14m</td>\n      <td>79</td>\n      <td>50,000+ Ratings</td>\n      <td>525 Reviews</td>\n    </tr>\n    <tr>\n      <th>...</th>\n      <td>...</td>\n      <td>...</td>\n      <td>...</td>\n      <td>...</td>\n      <td>...</td>\n      <td>...</td>\n      <td>...</td>\n    </tr>\n    <tr>\n      <th>95</th>\n      <td>\\n            Never Rarely Sometimes Always (2...</td>\n      <td>99%</td>\n      <td>235</td>\n      <td>2020, Drama, 1h 41m</td>\n      <td>52</td>\n      <td>500+ Ratings</td>\n      <td>235 Reviews</td>\n    </tr>\n    <tr>\n      <th>96</th>\n      <td>\\n            Spider-Man: Homecoming (2017)</td>\n      <td>92%</td>\n      <td>394</td>\n      <td>2017, Action/Adventure, 2h 13m</td>\n      <td>87</td>\n      <td>100,000+ Ratings</td>\n      <td>394 Reviews</td>\n    </tr>\n    <tr>\n      <th>97</th>\n      <td>\\n            The Bridge on the River Kwai (1957)</td>\n      <td>96%</td>\n      <td>93</td>\n      <td>1957, War/Drama, 2h 41m</td>\n      <td>93</td>\n      <td>50,000+ Ratings</td>\n      <td>93 Reviews</td>\n    </tr>\n    <tr>\n      <th>98</th>\n      <td>\\n            Pain and Glory (Dolor y gloria) ...</td>\n      <td>96%</td>\n      <td>299</td>\n      <td>2019, Drama, 1h 53m</td>\n      <td>91</td>\n      <td>250+ Verified Ratings</td>\n      <td>299 Reviews</td>\n    </tr>\n    <tr>\n      <th>99</th>\n      <td>\\n            Top Hat (1935)</td>\n      <td>100%</td>\n      <td>42</td>\n      <td>1935, Romance/Musical, 1h 39m</td>\n      <td>90</td>\n      <td>5,000+ Ratings</td>\n      <td>42 Reviews</td>\n    </tr>\n  </tbody>\n</table>\n<p>100 rows × 7 columns</p>\n</div>"
     },
     "execution_count": 3,
     "metadata": {},
     "output_type": "execute_result"
    }
   ],
   "source": [
    "data"
   ],
   "metadata": {
    "collapsed": false,
    "pycharm": {
     "name": "#%%\n"
    }
   }
  },
  {
   "cell_type": "code",
   "execution_count": 4,
   "outputs": [],
   "source": [
    "incon = ird.InconsistentData(data)"
   ],
   "metadata": {
    "collapsed": false,
    "pycharm": {
     "name": "#%%\n"
    }
   }
  },
  {
   "cell_type": "code",
   "execution_count": 5,
   "outputs": [],
   "source": [
    "data = incon.data_white_space()"
   ],
   "metadata": {
    "collapsed": false,
    "pycharm": {
     "name": "#%%\n"
    }
   }
  },
  {
   "cell_type": "code",
   "execution_count": 6,
   "outputs": [
    {
     "data": {
      "text/plain": "                                     names tomatometer  number_of_reviews  \\\n0             It Happened One Night (1934)         99%                 98   \n1                  The Wizard of Oz (1939)         98%                160   \n2                      Citizen Kane (1941)         99%                120   \n3                      Modern Times (1936)         98%                109   \n4                     Black Panther (2018)         96%                525   \n..                                     ...         ...                ...   \n95    Never Rarely Sometimes Always (2020)         99%                235   \n96           Spider-Man: Homecoming (2017)         92%                394   \n97     The Bridge on the River Kwai (1957)         96%                 93   \n98  Pain and Glory (Dolor y gloria) (2019)         96%                299   \n99                          Top Hat (1935)        100%                 42   \n\n                             movie_info  audience_score  \\\n0          1934, Romance/Comedy, 1h 45m              93   \n1   1939, Musical/Kids & family, 1h 41m              89   \n2                   1941, Drama, 1h 59m              90   \n3                  1936, Comedy, 1h 29m              95   \n4        2018, Adventure/Action, 2h 14m              79   \n..                                  ...             ...   \n95                  2020, Drama, 1h 41m              52   \n96       2017, Action/Adventure, 2h 13m              87   \n97              1957, War/Drama, 2h 41m              93   \n98                  2019, Drama, 1h 53m              91   \n99        1935, Romance/Musical, 1h 39m              90   \n\n           audience_count critics_count  \n0         25,000+ Ratings    98 Reviews  \n1        250,000+ Ratings   160 Reviews  \n2        100,000+ Ratings   120 Reviews  \n3         25,000+ Ratings   109 Reviews  \n4         50,000+ Ratings   525 Reviews  \n..                    ...           ...  \n95           500+ Ratings   235 Reviews  \n96       100,000+ Ratings   394 Reviews  \n97        50,000+ Ratings    93 Reviews  \n98  250+ Verified Ratings   299 Reviews  \n99         5,000+ Ratings    42 Reviews  \n\n[100 rows x 7 columns]",
      "text/html": "<div>\n<style scoped>\n    .dataframe tbody tr th:only-of-type {\n        vertical-align: middle;\n    }\n\n    .dataframe tbody tr th {\n        vertical-align: top;\n    }\n\n    .dataframe thead th {\n        text-align: right;\n    }\n</style>\n<table border=\"1\" class=\"dataframe\">\n  <thead>\n    <tr style=\"text-align: right;\">\n      <th></th>\n      <th>names</th>\n      <th>tomatometer</th>\n      <th>number_of_reviews</th>\n      <th>movie_info</th>\n      <th>audience_score</th>\n      <th>audience_count</th>\n      <th>critics_count</th>\n    </tr>\n  </thead>\n  <tbody>\n    <tr>\n      <th>0</th>\n      <td>It Happened One Night (1934)</td>\n      <td>99%</td>\n      <td>98</td>\n      <td>1934, Romance/Comedy, 1h 45m</td>\n      <td>93</td>\n      <td>25,000+ Ratings</td>\n      <td>98 Reviews</td>\n    </tr>\n    <tr>\n      <th>1</th>\n      <td>The Wizard of Oz (1939)</td>\n      <td>98%</td>\n      <td>160</td>\n      <td>1939, Musical/Kids &amp; family, 1h 41m</td>\n      <td>89</td>\n      <td>250,000+ Ratings</td>\n      <td>160 Reviews</td>\n    </tr>\n    <tr>\n      <th>2</th>\n      <td>Citizen Kane (1941)</td>\n      <td>99%</td>\n      <td>120</td>\n      <td>1941, Drama, 1h 59m</td>\n      <td>90</td>\n      <td>100,000+ Ratings</td>\n      <td>120 Reviews</td>\n    </tr>\n    <tr>\n      <th>3</th>\n      <td>Modern Times (1936)</td>\n      <td>98%</td>\n      <td>109</td>\n      <td>1936, Comedy, 1h 29m</td>\n      <td>95</td>\n      <td>25,000+ Ratings</td>\n      <td>109 Reviews</td>\n    </tr>\n    <tr>\n      <th>4</th>\n      <td>Black Panther (2018)</td>\n      <td>96%</td>\n      <td>525</td>\n      <td>2018, Adventure/Action, 2h 14m</td>\n      <td>79</td>\n      <td>50,000+ Ratings</td>\n      <td>525 Reviews</td>\n    </tr>\n    <tr>\n      <th>...</th>\n      <td>...</td>\n      <td>...</td>\n      <td>...</td>\n      <td>...</td>\n      <td>...</td>\n      <td>...</td>\n      <td>...</td>\n    </tr>\n    <tr>\n      <th>95</th>\n      <td>Never Rarely Sometimes Always (2020)</td>\n      <td>99%</td>\n      <td>235</td>\n      <td>2020, Drama, 1h 41m</td>\n      <td>52</td>\n      <td>500+ Ratings</td>\n      <td>235 Reviews</td>\n    </tr>\n    <tr>\n      <th>96</th>\n      <td>Spider-Man: Homecoming (2017)</td>\n      <td>92%</td>\n      <td>394</td>\n      <td>2017, Action/Adventure, 2h 13m</td>\n      <td>87</td>\n      <td>100,000+ Ratings</td>\n      <td>394 Reviews</td>\n    </tr>\n    <tr>\n      <th>97</th>\n      <td>The Bridge on the River Kwai (1957)</td>\n      <td>96%</td>\n      <td>93</td>\n      <td>1957, War/Drama, 2h 41m</td>\n      <td>93</td>\n      <td>50,000+ Ratings</td>\n      <td>93 Reviews</td>\n    </tr>\n    <tr>\n      <th>98</th>\n      <td>Pain and Glory (Dolor y gloria) (2019)</td>\n      <td>96%</td>\n      <td>299</td>\n      <td>2019, Drama, 1h 53m</td>\n      <td>91</td>\n      <td>250+ Verified Ratings</td>\n      <td>299 Reviews</td>\n    </tr>\n    <tr>\n      <th>99</th>\n      <td>Top Hat (1935)</td>\n      <td>100%</td>\n      <td>42</td>\n      <td>1935, Romance/Musical, 1h 39m</td>\n      <td>90</td>\n      <td>5,000+ Ratings</td>\n      <td>42 Reviews</td>\n    </tr>\n  </tbody>\n</table>\n<p>100 rows × 7 columns</p>\n</div>"
     },
     "execution_count": 6,
     "metadata": {},
     "output_type": "execute_result"
    }
   ],
   "source": [
    "data"
   ],
   "metadata": {
    "collapsed": false,
    "pycharm": {
     "name": "#%%\n"
    }
   }
  },
  {
   "cell_type": "code",
   "execution_count": 7,
   "outputs": [],
   "source": [
    "data_np = np.array(data.iloc[:,:].values)"
   ],
   "metadata": {
    "collapsed": false,
    "pycharm": {
     "name": "#%%\n"
    }
   }
  },
  {
   "cell_type": "code",
   "execution_count": 8,
   "outputs": [
    {
     "data": {
      "text/plain": "array([['It Happened One Night (1934)', '99%', 98,\n        '1934, Romance/Comedy, 1h 45m', 93, '25,000+ Ratings',\n        '98 Reviews'],\n       ['The Wizard of Oz (1939)', '98%', 160,\n        '1939, Musical/Kids & family, 1h 41m', 89, '250,000+ Ratings',\n        '160 Reviews'],\n       ['Citizen Kane (1941)', '99%', 120, '1941, Drama, 1h 59m', 90,\n        '100,000+ Ratings', '120 Reviews'],\n       ['Modern Times (1936)', '98%', 109, '1936, Comedy, 1h 29m', 95,\n        '25,000+ Ratings', '109 Reviews'],\n       ['Black Panther (2018)', '96%', 525,\n        '2018, Adventure/Action, 2h 14m', 79, '50,000+ Ratings',\n        '525 Reviews'],\n       ['Parasite (Gisaengchung) (2019)', '98%', 464,\n        '2019, Comedy/Mystery & thriller, 2h 12m', 90,\n        '5,000+ Verified Ratings', '464 Reviews'],\n       ['Avengers: Endgame (2019)', '94%', 547,\n        '2019, Sci-fi/Adventure, 3h 1m', 90, '50,000+ Ratings',\n        '547 Reviews'],\n       ['Casablanca (1942)', '99%', 124, '1942, Drama, 1h 42m', 95,\n        '250,000+ Ratings', '124 Reviews'],\n       ['Knives Out (2019)', '97%', 467, '2019, Crime/Comedy, 2h 10m',\n        92, '25,000+ Verified Ratings', '467 Reviews'],\n       ['Us (2019)', '93%', 553,\n        '2019, Horror/Mystery & thriller, 1h 56m', 59, '10,000+ Ratings',\n        '553 Reviews'],\n       ['Toy Story 4 (2019)', '97%', 453,\n        '2019, Comedy/Kids & family, 1h 40m', 94,\n        '50,000+ Verified Ratings', '453 Reviews'],\n       ['Lady Bird (2017)', '99%', 398, '2017, Comedy/Drama, 1h 34m', 79,\n        '10,000+ Ratings', '398 Reviews'],\n       ['Mission: Impossible - Fallout (2018)', '97%', 437,\n        '2018, Action/Mystery & thriller, 2h 27m', 88, '10,000+ Ratings',\n        '437 Reviews'],\n       ['BlacKkKlansman (2018)', '96%', 447,\n        '2018, Crime/Comedy, 2h 14m', 83, '10,000+ Ratings',\n        '447 Reviews'],\n       ['Get Out (2017)', '98%', 397, '2017, Horror/Comedy, 1h 44m', 86,\n        '50,000+ Ratings', '397 Reviews'],\n       ['The Irishman (2019)', '95%', 455, '2019, Crime/Drama, 3h 29m',\n        86, '1,000+ Verified Ratings', '455 Reviews'],\n       ['The Godfather (1972)', '97%', 133, '1972, Crime/Drama, 2h 57m',\n        98, '250,000+ Ratings', '133 Reviews'],\n       ['Mad Max: Fury Road (2015)', '97%', 434,\n        '2015, Adventure/Action, 2h 0m', 86, '100,000+ Ratings',\n        '434 Reviews'],\n       ['Spider-Man: Into the Spider-Verse (2018)', '97%', 393,\n        '2018, Fantasy/Adventure, 1h 57m', 93, '10,000+ Ratings',\n        '393 Reviews'],\n       ['Sunset Boulevard (1950)', '98%', 110, '1950, Drama, 1h 50m', 95,\n        '50,000+ Ratings', '110 Reviews'],\n       ['Moonlight (2016)', '98%', 393, '2016, Drama/Lgbtq+, 1h 51m', 79,\n        '25,000+ Ratings', '393 Reviews'],\n       ['All About Eve (1950)', '99%', 103, '1950, Drama, 2h 18m', 94,\n        '25,000+ Ratings', '103 Reviews'],\n       ['The Cabinet of Dr. Caligari (Das Cabinet des Dr. Caligari) (1920)',\n        '99%', 68, '1919, Fantasy/Mystery & thriller, 1h 9m', 89,\n        '25,000+ Ratings', '68 Reviews'],\n       ['The Philadelphia Story (1940)', '100%', 102,\n        '1940, Romance/Comedy, 1h 52m', 93, '25,000+ Ratings',\n        '102 Reviews'],\n       ['Roma (2018)', '96%', 404, '2018, Drama, 2h 15m', 72,\n        '5,000+ Ratings', '404 Reviews'],\n       ['Wonder Woman (2017)', '93%', 471,\n        '2017, Adventure/Action, 2h 21m', 83, '100,000+ Ratings',\n        '471 Reviews'],\n       ['A Star Is Born (2018)', '90%', 528,\n        '2018, Romance/Drama, 2h 15m', 79, '10,000+ Ratings',\n        '528 Reviews'],\n       ['Inside Out (2015)', '98%', 379,\n        '2015, Animation/Comedy, 1h 35m', 89, '100,000+ Ratings',\n        '379 Reviews'],\n       ['A Quiet Place (2018)', '96%', 387,\n        '2018, Horror/Mystery & thriller, 1h 30m', 83, '10,000+ Ratings',\n        '387 Reviews'],\n       ['Eighth Grade (2018)', '99%', 318, '2018, Comedy/Drama, 1h 33m',\n        82, '5,000+ Ratings', '318 Reviews'],\n       ['Rebecca (1940)', '100%', 95, '1940, Mystery & thriller, 2h 10m',\n        92, '25,000+ Ratings', '95 Reviews'],\n       ['His Girl Friday (1940)', '99%', 100, '1940, Comedy, 1h 32m', 90,\n        '10,000+ Ratings', '100 Reviews'],\n       ['Booksmart (2019)', '96%', 377, '2019, Comedy/Lgbtq+, 1h 42m',\n        77, '2,500+ Verified Ratings', '377 Reviews'],\n       ['Logan (2017)', '94%', 423, '2017, Adventure/Action, 2h 17m', 90,\n        '50,000+ Ratings', '423 Reviews'],\n       ['Portrait of a Lady on Fire (Portrait de la jeune fille en feu) (2020)',\n        '98%', 324, '2019, History/Romance, 2h 1m', 92,\n        '250+ Verified Ratings', '324 Reviews'],\n       ['Coco (2017)', '97%', 353, '2017, Comedy/Kids & family, 1h 49m',\n        94, '25,000+ Ratings', '353 Reviews'],\n       ['Dunkirk (2017)', '92%', 461, '2017, War/History, 1h 47m', 81,\n        '50,000+ Ratings', '461 Reviews'],\n       ['A Night at the Opera (1935)', '97%', 70, '1935, Comedy, 1h 33m',\n        91, '10,000+ Ratings', '70 Reviews'],\n       ['Star Wars: The Last Jedi (2017)', '91%', 482,\n        '2017, Fantasy/Adventure, 2h 32m', 42, '100,000+ Ratings',\n        '482 Reviews'],\n       ['The Shape of Water (2017)', '92%', 459,\n        '2017, Romance/Fantasy, 2h 3m', 72, '25,000+ Ratings',\n        '459 Reviews'],\n       ['Thor: Ragnarok (2017)', '93%', 437,\n        '2017, Comedy/Action, 2h 10m', 87, '50,000+ Ratings',\n        '437 Reviews'],\n       ['Spotlight (2015)', '97%', 376, '2015, Drama, 2h 8m', 93,\n        '50,000+ Ratings', '376 Reviews'],\n       ['The Farewell (2019)', '97%', 345, '2019, Comedy/Drama, 1h 40m',\n        87, '1,000+ Verified Ratings', '345 Reviews'],\n       ['Selma (2014)', '99%', 313, '2014, History/Drama, 2h 8m', 86,\n        '50,000+ Ratings', '313 Reviews'],\n       ['The Third Man (1949)', '99%', 86,\n        '1949, Mystery & thriller, 1h 44m', 93, '50,000+ Ratings',\n        '86 Reviews'],\n       ['Rear Window (1954)', '98%', 122,\n        '1954, Mystery & thriller, 1h 52m', 95, '100,000+ Ratings',\n        '122 Reviews'],\n       ['E.T. The Extra-Terrestrial (1982)', '99%', 136,\n        '1982, Kids & family/Sci-fi, 1h 55m', 72, '250,000+ Ratings',\n        '136 Reviews'],\n       ['Seven Samurai (Shichinin no Samurai) (1956)', '100%', 88,\n        '1954, Action, 3h 28m', 97, '50,000+ Ratings', '88 Reviews'],\n       ['La Grande illusion (Grand Illusion) (1938)', '97%', 68,\n        '1937, Drama/War, 1h 57m', 92, '10,000+ Ratings', '68 Reviews'],\n       ['Arrival (2016)', '94%', 435,\n        '2016, Drama/Mystery & thriller, 1h 56m', 82, '50,000+ Ratings',\n        '435 Reviews'],\n       [\"Singin' in the Rain (1952)\", '100%', 67,\n        '1952, Musical/Comedy, 1h 42m', 95, '100,000+ Ratings',\n        '67 Reviews'],\n       ['The Favourite (2018)', '93%', 422, '2018, Comedy/Drama, 2h 0m',\n        69, '5,000+ Ratings', '422 Reviews'],\n       ['Double Indemnity (1944)', '97%', 92,\n        '1944, Crime/Drama, 1h 46m', 95, '25,000+ Ratings', '92 Reviews'],\n       ['All Quiet on the Western Front (1930)', '98%', 81,\n        '1930, War, 1h 45m', 89, '10,000+ Ratings', '81 Reviews'],\n       ['Snow White and the Seven Dwarfs (1937)', '98%', 54,\n        '1937, Animation/Kids & family, 1h 20m', 78, '250,000+ Ratings',\n        '54 Reviews'],\n       ['Marriage Story (2019)', '94%', 392,\n        '2019, Comedy/Drama, 2h 16m', 85, '100+ Verified Ratings',\n        '392 Reviews'],\n       ['An American in Paris (1951)', '96%', 94,\n        '1951, Romance/Musical, 1h 53m', 79, '25,000+ Ratings',\n        '94 Reviews'],\n       ['The Big Sick (2017)', '98%', 304, '2017, Romance/Comedy, 2h 0m',\n        88, '25,000+ Ratings', '304 Reviews'],\n       ['The Kid (1921)', '100%', 49, '1921, Comedy/Drama, 1h 0m', 95,\n        '10,000+ Ratings', '49 Reviews'],\n       ['Star Wars: Episode VII - The Force Awakens (2015)', '93%', 445,\n        '2015, Fantasy/Adventure, 2h 16m', 85, '100,000+ Ratings',\n        '445 Reviews'],\n       ['Metropolis (1927)', '97%', 135, '1927, Drama/Sci-fi, 2h 3m', 92,\n        '50,000+ Ratings', '135 Reviews'],\n       ['On the Waterfront (1954)', '99%', 105, '1954, Drama, 1h 48m',\n        95, '50,000+ Ratings', '105 Reviews'],\n       ['Gravity (2013)', '96%', 357,\n        '2013, Drama/Mystery & thriller, 1h 31m', 80, '250,000+ Ratings',\n        '357 Reviews'],\n       ['The Best Years of Our Lives (1946)', '98%', 91,\n        '1946, Drama, 2h 52m', 93, '10,000+ Ratings', '91 Reviews'],\n       ['Boyhood (2014)', '97%', 327, '2014, Drama, 2h 45m', 80,\n        '50,000+ Ratings', '327 Reviews'],\n       ['Leave No Trace (2018)', '100%', 247, '2018, Drama, 1h 48m', 80,\n        '2,500+ Ratings', '247 Reviews'],\n       ['The Maltese Falcon (1941)', '100%', 64,\n        '1941, Crime/Drama, 1h 40m', 91, '50,000+ Ratings', '64 Reviews'],\n       ['12 Years a Slave (2013)', '95%', 374,\n        '2013, Biography/Drama, 2h 14m', 90, '100,000+ Ratings',\n        '374 Reviews'],\n       ['Once Upon a Time In Hollywood (2019)', '85%', 571,\n        '2019, Comedy/Drama, 2h 39m', 70, '25,000+ Verified Ratings',\n        '571 Reviews'],\n       ['The Invisible Man (2020)', '92%', 412,\n        '2020, Mystery & thriller/Horror, 2h 4m', 88,\n        '10,000+ Verified Ratings', '412 Reviews'],\n       ['Argo (2012)', '96%', 360,\n        '2012, History/Mystery & thriller, 2h 0m', 90,\n        '100,000+ Ratings', '360 Reviews'],\n       ['Manchester by the Sea (2016)', '96%', 353,\n        '2016, Drama, 2h 17m', 78, '50,000+ Ratings', '353 Reviews'],\n       ['The Adventures of Robin Hood (1938)', '100%', 48,\n        '1938, Adventure/Action, 1h 42m', 89, '25,000+ Ratings',\n        '48 Reviews'],\n       ['North by Northwest (1959)', '97%', 109,\n        '1959, Mystery & thriller, 2h 16m', 94, '50,000+ Ratings',\n        '109 Reviews'],\n       ['La La Land (2016)', '91%', 466, '2016, Romance/Musical, 2h 8m',\n        81, '50,000+ Ratings', '466 Reviews'],\n       ['Laura (1944)', '100%', 65, '1944, Mystery & thriller, 1h 28m',\n        91, '10,000+ Ratings', '65 Reviews'],\n       ['Nosferatu, a Symphony of Horror (Nosferatu, eine Symphonie des Grauens) (Nosferatu the Vampire) (1922)',\n        '97%', 68, '1922, Horror/Fantasy, 1h 5m', 87, '25,000+ Ratings',\n        '68 Reviews'],\n       ['Incredibles 2 (2018)', '93%', 387,\n        '2018, Comedy/Kids & family, 1h 58m', 84, '10,000+ Ratings',\n        '387 Reviews'],\n       ['Spider-Man: Far From Home (2019)', '90%', 452,\n        '2019, Comedy/Adventure, 2h 9m', 95, '50,000+ Verified Ratings',\n        '452 Reviews'],\n       ['Zootopia (2016)', '98%', 298, '2016, Animation/Comedy, 1h 48m',\n        92, '100,000+ Ratings', '298 Reviews'],\n       ['Alien (1979)', '98%', 127, '1979, Horror/Sci-fi, 1h 57m', 94,\n        '250,000+ Ratings', '127 Reviews'],\n       ['King Kong (1933)', '98%', 66, '1933, Fantasy/Adventure, 1h 40m',\n        86, '50,000+ Ratings', '66 Reviews'],\n       ['Call Me by Your Name (2018)', '94%', 363,\n        '2017, Romance/Drama, 2h 12m', 86, '10,000+ Ratings',\n        '363 Reviews'],\n       ['Psycho (1960)', '96%', 105,\n        '1960, Horror/Mystery & thriller, 1h 49m', 95,\n        '100,000+ Ratings', '105 Reviews'],\n       ['L.A. Confidential (1997)', '99%', 161,\n        '1997, Crime/Drama, 2h 16m', 94, '100,000+ Ratings',\n        '161 Reviews'],\n       ['Shadow of a Doubt (1943)', '100%', 48,\n        '1943, Crime/Drama, 1h 48m', 89, '10,000+ Ratings', '48 Reviews'],\n       ['1917 (2020)', '89%', 461, '2019, War/History, 1h 59m', 88,\n        '25,000+ Verified Ratings', '461 Reviews'],\n       ['War for the Planet of the Apes (2017)', '94%', 360,\n        '2017, Adventure/Action, 2h 22m', 84, '50,000+ Ratings',\n        '360 Reviews'],\n       ['The Florida Project (2017)', '96%', 315, '2017, Drama, 1h 55m',\n        80, '10,000+ Ratings', '315 Reviews'],\n       ['Paddington 2 (2018)', '99%', 247,\n        '2017, Comedy/Adventure, 1h 43m', 87, '5,000+ Ratings',\n        '247 Reviews'],\n       ['Widows (2018)', '91%', 420, '2018, Crime/Drama, 2h 8m', 61,\n        '5,000+ Ratings', '420 Reviews'],\n       [\"A Hard Day's Night (1964)\", '98%', 111,\n        '1964, Musical/Comedy, 1h 23m', 89, '50,000+ Ratings',\n        '111 Reviews'],\n       ['The Battle of Algiers (La Battaglia di Algeri) (1967)', '99%',\n        89, '1966, War/History, 2h 5m', 95, '10,000+ Ratings',\n        '89 Reviews'],\n       ['The Godfather, Part II (1974)', '96%', 114,\n        '1974, Crime/Drama, 3h 20m', 97, '250,000+ Ratings',\n        '114 Reviews'],\n       ['Baby Driver (2017)', '92%', 395,\n        '2017, Mystery & thriller/Action, 1h 53m', 86, '50,000+ Ratings',\n        '395 Reviews'],\n       ['Never Rarely Sometimes Always (2020)', '99%', 235,\n        '2020, Drama, 1h 41m', 52, '500+ Ratings', '235 Reviews'],\n       ['Spider-Man: Homecoming (2017)', '92%', 394,\n        '2017, Action/Adventure, 2h 13m', 87, '100,000+ Ratings',\n        '394 Reviews'],\n       ['The Bridge on the River Kwai (1957)', '96%', 93,\n        '1957, War/Drama, 2h 41m', 93, '50,000+ Ratings', '93 Reviews'],\n       ['Pain and Glory (Dolor y gloria) (2019)', '96%', 299,\n        '2019, Drama, 1h 53m', 91, '250+ Verified Ratings',\n        '299 Reviews'],\n       ['Top Hat (1935)', '100%', 42, '1935, Romance/Musical, 1h 39m',\n        90, '5,000+ Ratings', '42 Reviews']], dtype=object)"
     },
     "execution_count": 8,
     "metadata": {},
     "output_type": "execute_result"
    }
   ],
   "source": [
    "data_np"
   ],
   "metadata": {
    "collapsed": false,
    "pycharm": {
     "name": "#%%\n"
    }
   }
  },
  {
   "cell_type": "code",
   "execution_count": 9,
   "outputs": [],
   "source": [
    "name = [data_np[i][0].split(\"(\")[0] for i in range(100)]"
   ],
   "metadata": {
    "collapsed": false,
    "pycharm": {
     "name": "#%%\n"
    }
   }
  },
  {
   "cell_type": "code",
   "execution_count": 9,
   "outputs": [],
   "source": [],
   "metadata": {
    "collapsed": false,
    "pycharm": {
     "name": "#%%\n"
    }
   }
  },
  {
   "cell_type": "code",
   "execution_count": 10,
   "outputs": [],
   "source": [
    "column_name = data.columns"
   ],
   "metadata": {
    "collapsed": false,
    "pycharm": {
     "name": "#%%\n"
    }
   }
  },
  {
   "cell_type": "code",
   "execution_count": 11,
   "outputs": [],
   "source": [
    "tomatometer = [data_np[i][1].split(\"%\")[0] for i in range(100)]"
   ],
   "metadata": {
    "collapsed": false,
    "pycharm": {
     "name": "#%%\n"
    }
   }
  },
  {
   "cell_type": "code",
   "execution_count": 12,
   "outputs": [
    {
     "data": {
      "text/plain": "['99',\n '98',\n '99',\n '98',\n '96',\n '98',\n '94',\n '99',\n '97',\n '93',\n '97',\n '99',\n '97',\n '96',\n '98',\n '95',\n '97',\n '97',\n '97',\n '98',\n '98',\n '99',\n '99',\n '100',\n '96',\n '93',\n '90',\n '98',\n '96',\n '99',\n '100',\n '99',\n '96',\n '94',\n '98',\n '97',\n '92',\n '97',\n '91',\n '92',\n '93',\n '97',\n '97',\n '99',\n '99',\n '98',\n '99',\n '100',\n '97',\n '94',\n '100',\n '93',\n '97',\n '98',\n '98',\n '94',\n '96',\n '98',\n '100',\n '93',\n '97',\n '99',\n '96',\n '98',\n '97',\n '100',\n '100',\n '95',\n '85',\n '92',\n '96',\n '96',\n '100',\n '97',\n '91',\n '100',\n '97',\n '93',\n '90',\n '98',\n '98',\n '98',\n '94',\n '96',\n '99',\n '100',\n '89',\n '94',\n '96',\n '99',\n '91',\n '98',\n '99',\n '96',\n '92',\n '99',\n '92',\n '96',\n '96',\n '100']"
     },
     "execution_count": 12,
     "metadata": {},
     "output_type": "execute_result"
    }
   ],
   "source": [
    "tomatometer"
   ],
   "metadata": {
    "collapsed": false,
    "pycharm": {
     "name": "#%%\n"
    }
   }
  },
  {
   "cell_type": "code",
   "execution_count": 13,
   "outputs": [],
   "source": [
    "year = []\n",
    "genra = []\n",
    "time = []"
   ],
   "metadata": {
    "collapsed": false,
    "pycharm": {
     "name": "#%%\n"
    }
   }
  },
  {
   "cell_type": "code",
   "execution_count": 14,
   "outputs": [],
   "source": [
    "for i in range(100):\n",
    "    # print(data_np[i][3])\n",
    "    year.append(data_np[i][3].split(\",\")[0])\n",
    "    genra.append(data_np[i][3].split(\",\")[1])\n",
    "    time.append(data_np[i][3].split(\",\")[2])"
   ],
   "metadata": {
    "collapsed": false,
    "pycharm": {
     "name": "#%%\n"
    }
   }
  },
  {
   "cell_type": "code",
   "execution_count": 15,
   "outputs": [],
   "source": [
    "audience_count = [data_np[i][5].split(\" \")[0] for i in range(100)]"
   ],
   "metadata": {
    "collapsed": false,
    "pycharm": {
     "name": "#%%\n"
    }
   }
  },
  {
   "cell_type": "code",
   "execution_count": 16,
   "outputs": [],
   "source": [
    "cri_count = [data_np[i][6].split(\" \")[0] for i in range(100)]"
   ],
   "metadata": {
    "collapsed": false,
    "pycharm": {
     "name": "#%%\n"
    }
   }
  },
  {
   "cell_type": "code",
   "execution_count": 17,
   "outputs": [],
   "source": [
    "new_csv = {\n",
    "    column_name[0]:[i for i in name],\n",
    "    column_name[1]: [int(i) for i in tomatometer],\n",
    "    column_name[2]: [int(data_np[i][2]) for i in range(100)],\n",
    "    \"year\": [int(i) for  i in year],\n",
    "    \"genre\": [ i for i in genra],\n",
    "    \"time\": [i for  i in time],\n",
    "    column_name[4]:[int(data_np[i][4])for i in range(100)],\n",
    "    column_name[5]: [ i for i in audience_count],\n",
    "    column_name[6]: [int(i) for i in cri_count]\n",
    "}"
   ],
   "metadata": {
    "collapsed": false,
    "pycharm": {
     "name": "#%%\n"
    }
   }
  },
  {
   "cell_type": "code",
   "execution_count": 18,
   "outputs": [],
   "source": [
    "temp = []\n",
    "for i in new_csv[\"time\"]:\n",
    "    hour = i.split(\"h\")[0]\n",
    "    minutes = i.split(\"h\")[1].split(\"m\")[0]\n",
    "    temp.append((int(hour)*60)+ int(minutes))\n",
    "new_csv[\"minutes\"] =[i for i in temp]"
   ],
   "metadata": {
    "collapsed": false,
    "pycharm": {
     "name": "#%%\n"
    }
   }
  },
  {
   "cell_type": "code",
   "execution_count": 19,
   "outputs": [],
   "source": [
    "cleaned = pd.DataFrame(new_csv)"
   ],
   "metadata": {
    "collapsed": false,
    "pycharm": {
     "name": "#%%\n"
    }
   }
  },
  {
   "cell_type": "code",
   "execution_count": 20,
   "outputs": [],
   "source": [
    "cleaned.drop(columns=\"time\",inplace=True)"
   ],
   "metadata": {
    "collapsed": false,
    "pycharm": {
     "name": "#%%\n"
    }
   }
  },
  {
   "cell_type": "code",
   "execution_count": 21,
   "outputs": [],
   "source": [
    "cleaned.to_csv(\"cleaned rotten tomato.csv\")"
   ],
   "metadata": {
    "collapsed": false,
    "pycharm": {
     "name": "#%%\n"
    }
   }
  },
  {
   "cell_type": "code",
   "execution_count": 22,
   "outputs": [
    {
     "data": {
      "text/plain": "Index(['names', 'tomatometer', 'number_of_reviews', 'year', 'genre',\n       'audience_score', 'audience_count', 'critics_count', 'minutes'],\n      dtype='object')"
     },
     "execution_count": 22,
     "metadata": {},
     "output_type": "execute_result"
    }
   ],
   "source": [
    "cleaned.columns"
   ],
   "metadata": {
    "collapsed": false,
    "pycharm": {
     "name": "#%%\n"
    }
   }
  },
  {
   "cell_type": "code",
   "execution_count": 23,
   "outputs": [
    {
     "data": {
      "text/plain": "<bound method IndexOpsMixin.value_counts of 0     93\n1     89\n2     90\n3     95\n4     79\n      ..\n95    52\n96    87\n97    93\n98    91\n99    90\nName: audience_score, Length: 100, dtype: int64>"
     },
     "execution_count": 23,
     "metadata": {},
     "output_type": "execute_result"
    }
   ],
   "source": [
    "cleaned.audience_score.value_counts"
   ],
   "metadata": {
    "collapsed": false,
    "pycharm": {
     "name": "#%%\n"
    }
   }
  }
 ],
 "metadata": {
  "kernelspec": {
   "display_name": "Python 3",
   "language": "python",
   "name": "python3"
  },
  "language_info": {
   "codemirror_mode": {
    "name": "ipython",
    "version": 2
   },
   "file_extension": ".py",
   "mimetype": "text/x-python",
   "name": "python",
   "nbconvert_exporter": "python",
   "pygments_lexer": "ipython2",
   "version": "2.7.6"
  }
 },
 "nbformat": 4,
 "nbformat_minor": 0
}